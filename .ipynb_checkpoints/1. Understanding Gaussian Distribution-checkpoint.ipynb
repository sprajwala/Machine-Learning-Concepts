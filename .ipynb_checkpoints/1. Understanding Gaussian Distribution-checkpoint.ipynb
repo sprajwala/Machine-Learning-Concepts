{
 "cells": [
  {
   "cell_type": "markdown",
   "metadata": {},
   "source": [
    "# Standard Gaussian Distribution"
   ]
  },
  {
   "cell_type": "markdown",
   "metadata": {},
   "source": [
    " Gaussian distribution is a type of continuous probability distribution for a real-valued random variable. <br>\n",
    " A standard Gaussian Distribution is the one in which mean $\\mu = 0$ and standard deviation $\\sigma = 1$"
   ]
  },
  {
   "cell_type": "markdown",
   "metadata": {},
   "source": [
    "$$ \\phi(x) = \\frac{1}{\\sigma \\sqrt{2\\pi}} e^{\\frac{1}{2} (\\frac{x-\\mu}{\\sigma})^2} $$"
   ]
  },
  {
   "cell_type": "markdown",
   "metadata": {},
   "source": [
    "Let us understand this distribution in the context of machine learning with python code. <br>\n",
    "When we think of gaussian distributions in 1,2 or 3 dimensions we think of a blob of mass near the origin and exponential decay away from the origin. But the picture is quite different in higher dimensions. Gaussian distributions behave like soap bubbles where most of the mass is concentrated near the shell of a given radius and empty everywhere else. "
   ]
  },
  {
   "cell_type": "code",
   "execution_count": 16,
   "metadata": {},
   "outputs": [],
   "source": [
    "%matplotlib inline"
   ]
  },
  {
   "cell_type": "code",
   "execution_count": 17,
   "metadata": {},
   "outputs": [],
   "source": [
    "import numpy as np\n",
    "import matplotlib.pyplot as plt\n",
    "import scipy.linalg as spla\n",
    "from scipy.spatial.distance import cdist\n",
    "from numpy.linalg import norm\n",
    "from matplotlib import cm\n",
    "from mpl_toolkits.mplot3d import Axes3D\n",
    "import math"
   ]
  },
  {
   "cell_type": "markdown",
   "metadata": {},
   "source": [
    "## Generating a random Gaussian distribution"
   ]
  },
  {
   "cell_type": "markdown",
   "metadata": {},
   "source": [
    "A generic function to generate 10000 samples from the standard multivariate Gaussian distribution. Will use this function further to generate distributions for d=3 and plot the histogram of its Euclidean norms."
   ]
  },
  {
   "cell_type": "markdown",
   "metadata": {},
   "source": [
    "We want a standard distribution, hence we want mean $$ \\mu = 0 $$  $$ covariance = 1 $$\n",
    "Hence we take an array of zeros as mean and an identity matrix of size d as covariance"
   ]
  },
  {
   "cell_type": "markdown",
   "metadata": {},
   "source": [
    "The below function will generate a (10000 x d) matrix of random samples"
   ]
  },
  {
   "cell_type": "code",
   "execution_count": 18,
   "metadata": {},
   "outputs": [],
   "source": [
    "#function to generate 10000 random samples in d dimensions\n",
    "def generate_random_sample(d):\n",
    "    mean = np.zeros(d)\n",
    "    cov = np.identity(d)\n",
    "    samples = np.random.multivariate_normal(mean,cov,10000)\n",
    "    \n",
    "    #calculating norms, mean, standard deviation\n",
    "    norms = euclidean_norm(samples)\n",
    "    sample_mean = np.mean(norms)\n",
    "    std = np.std(norms)\n",
    "    \n",
    "    return(sample_mean,std,norms)"
   ]
  },
  {
   "cell_type": "code",
   "execution_count": 19,
   "metadata": {},
   "outputs": [],
   "source": [
    "#function to calculate euclidean norms of a set of samples\n",
    "def euclidean_norm(samples):\n",
    "    norms  = []\n",
    "    for row in samples:\n",
    "        sum_sq =0\n",
    "        for dim in range(d):\n",
    "            sum_sq += row[dim]**2\n",
    "        norms.append(math.sqrt(sum_sq))\n",
    "    return(norms)"
   ]
  },
  {
   "cell_type": "code",
   "execution_count": 20,
   "metadata": {},
   "outputs": [],
   "source": [
    "ds = [1,2,3,10,20,50,100,200,350,500,750,1000]\n",
    "all_means = []\n",
    "all_std = []\n",
    "for d in ds:\n",
    "    mean,std,norms = generate_random_sample(d)\n",
    "    all_means.append(mean)\n",
    "    all_std.append(std)"
   ]
  },
  {
   "cell_type": "code",
   "execution_count": 21,
   "metadata": {},
   "outputs": [
    {
     "data": {
      "text/plain": [
       "<matplotlib.legend.Legend at 0x21e8153d588>"
      ]
     },
     "execution_count": 21,
     "metadata": {},
     "output_type": "execute_result"
    },
    {
     "data": {
      "image/png": "[encoded data removed]",
      "text/plain": [
       "<Figure size 432x288 with 1 Axes>"
      ]
     },
     "metadata": {
      "needs_background": "light"
     },
     "output_type": "display_data"
    }
   ],
   "source": [
    "plt.plot(ds,all_means,'o',label='Mean')\n",
    "plt.plot(ds,all_std,'o',label='Standard Deviation')\n",
    "plt.xlabel('Dimension')\n",
    "plt.legend()"
   ]
  },
  {
   "cell_type": "markdown",
   "metadata": {},
   "source": [
    "Observing variation of mean and standard deviation as dimention increases "
   ]
  },
  {
   "cell_type": "markdown",
   "metadata": {},
   "source": [
    "We can see from the above plot that as we increase dimension drastically, the mean is increasing in almost natural log way  but at the same time, the standard deviation does not change much at all."
   ]
  },
  {
   "cell_type": "markdown",
   "metadata": {},
   "source": [
    "Thus we can draw a conclusion that the spread of a gaussian distribution is independent of the dimension of the determining parameters. That is, if we are able to generate a distribution at a say a high confidence level, then that level does not change with change in dimension.  "
   ]
  },
  {
   "cell_type": "markdown",
   "metadata": {},
   "source": [
    " ## Plotting for three dimentional space\n",
    " $$d = 3 $$ "
   ]
  },
  {
   "cell_type": "code",
   "execution_count": 76,
   "metadata": {},
   "outputs": [],
   "source": [
    "#function to plot the histogram of samples and mean line.\n",
    "def plot_hist_norms(norms,bin_size):\n",
    "    plt.hist(norms, bins = bin_size)\n",
    "    plt.axvline(sum(norms)/len(norms),color='r',linewidth=2)\n",
    "    plt.xlabel('Euclidean norms')\n",
    "    plt.ylabel('Samples')\n",
    "    plt.np.std(norms)"
   ]
  },
  {
   "cell_type": "code",
   "execution_count": 79,
   "metadata": {
    "scrolled": true
   },
   "outputs": [
    {
     "name": "stdout",
     "output_type": "stream",
     "text": [
      "1.6032744408828705 0.6801005316551701\n",
      "1.6032744408828705 0.6801005316551701\n"
     ]
    },
    {
     "data": {
      "text/plain": [
       "[<matplotlib.lines.Line2D at 0x28932375278>]"
      ]
     },
     "execution_count": 79,
     "metadata": {},
     "output_type": "execute_result"
    },
    {
     "data": {
      "image/png": "[encoded data removed]",
      "text/plain": [
       "<Figure size 432x288 with 1 Axes>"
      ]
     },
     "metadata": {
      "needs_background": "light"
     },
     "output_type": "display_data"
    }
   ],
   "source": [
    "m,sd,mynorms = generate_random_sample(3)\n",
    "print(m,sd)\n",
    "plot_hist_norms(mynorms,100)\n",
    "plt.plot(m)"
   ]
  },
  {
   "cell_type": "code",
   "execution_count": null,
   "metadata": {},
   "outputs": [],
   "source": []
  }
 ],
 "metadata": {
  "kernelspec": {
   "display_name": "Python 3",
   "language": "python",
   "name": "python3"
  },
  "language_info": {
   "codemirror_mode": {
    "name": "ipython",
    "version": 3
   },
   "file_extension": ".py",
   "mimetype": "text/x-python",
   "name": "python",
   "nbconvert_exporter": "python",
   "pygments_lexer": "ipython3",
   "version": "3.7.3"
  }
 },
 "nbformat": 4,
 "nbformat_minor": 2
}
