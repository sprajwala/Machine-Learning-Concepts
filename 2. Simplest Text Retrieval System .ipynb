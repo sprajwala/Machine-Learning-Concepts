{
 "cells": [
  {
   "cell_type": "markdown",
   "metadata": {},
   "source": [
    "# Building a simple document matcher using TF-IDF and cosine similarity"
   ]
  },
  {
   "cell_type": "markdown",
   "metadata": {},
   "source": [
    "In this notebook we will build a very basic document similarity based text retrieval system using TF/IDF and cosine similarity. <br>\n",
    "In this example, we have five text documents (.txt files) having some content and one query document which we will pass into our text retrieval system to check which of the five documents is it most similar to."
   ]
  },
  {
   "cell_type": "code",
   "execution_count": 2,
   "metadata": {},
   "outputs": [],
   "source": [
    "## References:\n",
    "# https://scikit-learn.org/stable/modules/feature_extraction.html#text-feature-extraction"
   ]
  },
  {
   "cell_type": "code",
   "execution_count": 3,
   "metadata": {},
   "outputs": [],
   "source": [
    "from sklearn.feature_extraction.text import TfidfVectorizer\n",
    "import os\n",
    "import nltk\n",
    "import string\n",
    "from nltk.stem.porter import PorterStemmer\n",
    "import pandas as pd\n",
    "from sklearn.metrics.pairwise import cosine_similarity"
   ]
  },
  {
   "cell_type": "code",
   "execution_count": 4,
   "metadata": {},
   "outputs": [
    {
     "name": "stderr",
     "output_type": "stream",
     "text": [
      "[nltk_data] Downloading package punkt to\n",
      "[nltk_data]     C:\\Users\\prajw\\AppData\\Roaming\\nltk_data...\n",
      "[nltk_data]   Package punkt is already up-to-date!\n"
     ]
    },
    {
     "data": {
      "text/plain": [
       "True"
      ]
     },
     "execution_count": 4,
     "metadata": {},
     "output_type": "execute_result"
    }
   ],
   "source": [
    "nltk.download('punkt')"
   ]
  },
  {
   "cell_type": "markdown",
   "metadata": {},
   "source": [
    "## Parser to read each document and convert it into vector of words"
   ]
  },
  {
   "cell_type": "markdown",
   "metadata": {},
   "source": [
    "Cleaning the data a little by converting all words to lowercase and removing puncuations because that does not affect similarity of documents."
   ]
  },
  {
   "cell_type": "code",
   "execution_count": 14,
   "metadata": {},
   "outputs": [
    {
     "name": "stdout",
     "output_type": "stream",
     "text": [
      "DOCUMENT  0\n",
      "java is an island of indonesia.  with a population of over 141 million, java is home to 56.7 percent of the indonesian population, and is the most populous island on earth.  the indonesian capital city, jakarta, is located on western java.  much of indonesian history took place on java.  it was the center of powerful hindu-buddhist empires, the islamic sultanates, and the core of the colonial dutch east indies.++formed mostly as the result of volcanic eruptions, java is the thirteenth largest island in the world and the fifth largest in indonesia. a chain of volcanic mountains forms an eastâ€“west spine along the island. three main languages are spoken on the island: javanese, sundanese, and madurese. of these, javanese is the dominant; it is the native language of about 60 million people in indonesia, most of whom live on java. furthermore, most residents are bilingual, speaking indonesian (the official language of indonesia) as their first or second language. while the majority of the people of java are muslim, java has a diverse mixture of religious beliefs, ethnicities, and cultures.+\n",
      "------------------------------------------------------------\n",
      "\n",
      "DOCUMENT  1\n",
      "java is a town of approximately 1,500 people in georgia in south ossetia. according to georgia's current official administrative division, java is a main town of java district in the north of shida kartli region. according to the south ossetian side dzau is an administrative center of dzau district. the town is situated on the southern slopes of the greater caucasus, within the greater liakhvi gorge, 1,040 m (3,412 ft) above sea level.++java is the second largest urban settlement in south ossetia, after tskhinvali. it is located outside the organization for security and co-operation in europe-defined boundaries of the georgian-ossetian conflict zone â€“ an area within a 15-km radius of tskhinvali.++the town played a major role in the 2008 south ossetia war, with most of the south ossetian military forces being located there at the time of the georgian offensive. during the battle of tskhinvali, the government of south ossetia relocated to java.++georgia had accused the russian military of building a large military base in java before the war. these concerns were brought by the president of georgia, mikheil saakashvili, to the attention of the un general assembly on september 26, 2007. after the war, russia announced it was constructing military bases in java and tskhinvali, which would be ready in 2010.+\n",
      "------------------------------------------------------------\n",
      "\n",
      "DOCUMENT  2\n",
      "uss java was a wooden-hulled, sailing frigate in the united states navy, bearing 44 guns. she was named for the american victory over hms java off the coast of brazil on 29 december 1812, captured by the constitution under the command of captain william bainbridge. hms java had suffered severe damage during the engagement and being far from home port was ordered burned.++java was built at baltimore, maryland in 1814 and 1815 by flannigan and parsons. not completed until after the end of the war of 1812, java, captain oliver hazard perry in command, got underway from baltimore 5 august 1815, picked up spare rigging at hampton roads and new york, and sailed to newport, rhode island, to fill out her crew. ordered to the mediterranean to serve in the second barbary war, the new frigate departed from newport 22 january 1816 in the face of a bitter gale. at sea one of her masts snapped with ten men upon the yards, killing five.++java was off algiers in april where perry went ashore under a flag of truce and persuaded the dey of algiers to honor the treaty which he had signed the previous summer but had been ignoring. next she sailed for tripoli with constellation, ontario, and erie to show the strength and resolve of the united states. then, after a cruise in the mediterranean stopping at syracuse, messina, palermo, tunis, gibraltar and naples, the frigate returned to newport early in 1817 and was laid up at boston, massachusetts.++java returned to active service in 1827 under captain william m. crane for a second deployment in the mediterranean. there she protected american citizens and commerce and performed diplomatic duties. toward the end of the cruise she served as flagship of commodore james biddle.++after returning to the united states in 1831, java became receiving ship at norfolk, where she was broken up in 1842.+\n",
      "------------------------------------------------------------\n",
      "\n",
      "DOCUMENT  3\n",
      "java coffee refers to coffee beans produced in the indonesian island of java.  the indonesian phrase kopi java refers not only to the origin of the coffee, but is used to distinguish a style of strong, black, and very sweet coffee.  in some countries, java can refer to coffee in general.++the coffee is primarily grown on large estates that were built by the dutch in the 18th century. the five largest estates are blawan (also spelled belawan or blauan), jampit (or djampit), pancoer (or pancur), kayumas and tugosari, and they cover more than 4,000 hectares.++these estates transport ripe cherries quickly to their mills after harvest. the pulp is then fermented and washed off, using the wet process, with rigorous quality control. this results in coffee with good, heavy body and a sweet overall impression. they are sometimes rustic in their flavor profiles, but display a lasting finish. at their best, they are smooth and supple and sometimes have a subtle herbaceous note in the after-taste.++this coffee is prized as one component in the traditional \"mocca java\" blend, which pairs coffee from yemen and java. certain estates age a portion of their coffee for up to five years, normally in large burlap sacks, which are regularly aired, dusted, and flipped. as they age, the beans turn from green to light brown, and their flavor gains strength while losing acidity. aged coffees can display flavors ranging from cedar to spices such as cinnamon or clove, and often develop a thick, almost syrupy body. these aged coffees are called old government, old brown or old java.+\n",
      "------------------------------------------------------------\n",
      "\n",
      "DOCUMENT  4\n",
      "java is a general-purpose computer programming language that is concurrent, class-based, object-oriented, and specifically designed to have as few implementation dependencies as possible. it is intended to let application developers \"write once, run anywhere\" (wora), meaning that compiled java code can run on all platforms that support java without the need for recompilation.++java applications are typically compiled to bytecode that can run on any java virtual machine (jvm) regardless of computer architecture. as of 2016, java is one of the most popular programming languages in use, particularly for client-server web applications, with a reported 9 million developers. java was originally developed by james gosling at sun microsystems (which has since been acquired by oracle corporation) and released in 1995 as a core component of sun microsystems' java platform. the language derives much of its syntax from c and c++, but it has fewer low-level facilities than either of them.++the original and reference implementation java compilers, virtual machines, and class libraries were originally released by sun under proprietary licenses. as of may 2007, in compliance with the specifications of the java community process, sun relicensed most of its java technologies under the gnu general public license. others have also developed alternative implementations of these sun technologies, such as the gnu compiler for java (bytecode compiler), gnu classpath (standard libraries), and icedtea-web (browser plugin for applets).+\n",
      "------------------------------------------------------------\n",
      "\n",
      "DOCUMENT  5\n",
      "java coffee mocha+\n",
      "------------------------------------------------------------\n",
      "\n"
     ]
    }
   ],
   "source": [
    "path = \"C:\\\\Users\\\\prajw\\\\Machine Learning NYU\\\\Machine-Learning-Concepts\\\\data\\\\\"\n",
    "all_docs = {}\n",
    "stemmer = PorterStemmer\n",
    "i=0\n",
    "for subdir, dirs, files in os.walk(path):\n",
    "    for file in files:\n",
    "        file_path = subdir + os.path.sep + file\n",
    "        docs = open(file_path,'r')\n",
    "        text = docs.read()\n",
    "        lowers = text.lower()\n",
    "        no_punctuation = lowers.translate(string.punctuation)\n",
    "        all_docs[i] = no_punctuation\n",
    "        print('DOCUMENT ',i)\n",
    "        print(all_docs[i])\n",
    "        print('------------------------------------------------------------\\n')\n",
    "        i+=1"
   ]
  },
  {
   "cell_type": "markdown",
   "metadata": {},
   "source": [
    "## Compute TF/IDF"
   ]
  },
  {
   "cell_type": "markdown",
   "metadata": {},
   "source": [
    "<b>Term Frequency (TF) </b> is the number of times a particular word appears in a document. Below is the formula for term frequency of term $t$ in document $d$\n",
    "$$ tf(t,d) =   $$\n",
    "<br>\n",
    "<b>Inverse Document Frequency (IDF) </b> is the factor which reduces the weight of those words which occur very frequently in all documents. This is super important because if a word for example 'research' is appearing in all the documents then that word is not really useful in uniquely identifying what (which research topic) a particular document is talking about.  \n",
    "<br> <br>\n",
    "In this example we have five documents all talking about 'Java' but in different contexts. Hence just the word 'java' is not enough to uniquely characterize each of the documents."
   ]
  },
  {
   "cell_type": "code",
   "execution_count": 15,
   "metadata": {},
   "outputs": [],
   "source": [
    "tfidf = TfidfVectorizer(stop_words='english') #removing standard english stop words from the corpus of words to process\n",
    "tfs = tfidf.fit_transform(all_docs.values())"
   ]
  },
  {
   "cell_type": "code",
   "execution_count": 16,
   "metadata": {},
   "outputs": [
    {
     "data": {
      "text/plain": [
       "(6, 472)"
      ]
     },
     "execution_count": 16,
     "metadata": {},
     "output_type": "execute_result"
    }
   ],
   "source": [
    "tfs.shape"
   ]
  },
  {
   "cell_type": "markdown",
   "metadata": {},
   "source": [
    "The vectorizer gives us a scipy.sparse.csr.csr_matrix of size (6 x 472) because it has calculated the TF\\*IDF score for each word in the corpus against each document. If a word is not at all present in a document, its score is 0. Hence this is a sparse matrix because there will be a lot of such zero values for very distinct set of documents.  "
   ]
  },
  {
   "cell_type": "markdown",
   "metadata": {},
   "source": [
    "Below, I have converted this sparse matrix to dense and printed each of the words for which the score was computed. Document at index 5 is the d_query.txt document"
   ]
  },
  {
   "cell_type": "code",
   "execution_count": 17,
   "metadata": {
    "scrolled": true
   },
   "outputs": [
    {
     "data": {
      "text/html": [
       "<div>\n",
       "<style scoped>\n",
       "    .dataframe tbody tr th:only-of-type {\n",
       "        vertical-align: middle;\n",
       "    }\n",
       "\n",
       "    .dataframe tbody tr th {\n",
       "        vertical-align: top;\n",
       "    }\n",
       "\n",
       "    .dataframe thead th {\n",
       "        text-align: right;\n",
       "    }\n",
       "</style>\n",
       "<table border=\"1\" class=\"dataframe\">\n",
       "  <thead>\n",
       "    <tr style=\"text-align: right;\">\n",
       "      <th></th>\n",
       "      <th>000</th>\n",
       "      <th>040</th>\n",
       "      <th>141</th>\n",
       "      <th>15</th>\n",
       "      <th>1812</th>\n",
       "      <th>1814</th>\n",
       "      <th>1815</th>\n",
       "      <th>1816</th>\n",
       "      <th>1817</th>\n",
       "      <th>1827</th>\n",
       "      <th>...</th>\n",
       "      <th>william</th>\n",
       "      <th>wooden</th>\n",
       "      <th>wora</th>\n",
       "      <th>world</th>\n",
       "      <th>write</th>\n",
       "      <th>yards</th>\n",
       "      <th>years</th>\n",
       "      <th>yemen</th>\n",
       "      <th>york</th>\n",
       "      <th>zone</th>\n",
       "    </tr>\n",
       "  </thead>\n",
       "  <tbody>\n",
       "    <tr>\n",
       "      <th>0</th>\n",
       "      <td>0.000000</td>\n",
       "      <td>0.000000</td>\n",
       "      <td>0.086207</td>\n",
       "      <td>0.000000</td>\n",
       "      <td>0.000000</td>\n",
       "      <td>0.000000</td>\n",
       "      <td>0.000000</td>\n",
       "      <td>0.000000</td>\n",
       "      <td>0.000000</td>\n",
       "      <td>0.000000</td>\n",
       "      <td>...</td>\n",
       "      <td>0.000000</td>\n",
       "      <td>0.000000</td>\n",
       "      <td>0.000000</td>\n",
       "      <td>0.086207</td>\n",
       "      <td>0.000000</td>\n",
       "      <td>0.000000</td>\n",
       "      <td>0.000000</td>\n",
       "      <td>0.000000</td>\n",
       "      <td>0.000000</td>\n",
       "      <td>0.000000</td>\n",
       "    </tr>\n",
       "    <tr>\n",
       "      <th>1</th>\n",
       "      <td>0.000000</td>\n",
       "      <td>0.065249</td>\n",
       "      <td>0.000000</td>\n",
       "      <td>0.065249</td>\n",
       "      <td>0.000000</td>\n",
       "      <td>0.000000</td>\n",
       "      <td>0.000000</td>\n",
       "      <td>0.000000</td>\n",
       "      <td>0.000000</td>\n",
       "      <td>0.000000</td>\n",
       "      <td>...</td>\n",
       "      <td>0.000000</td>\n",
       "      <td>0.000000</td>\n",
       "      <td>0.000000</td>\n",
       "      <td>0.000000</td>\n",
       "      <td>0.000000</td>\n",
       "      <td>0.000000</td>\n",
       "      <td>0.000000</td>\n",
       "      <td>0.000000</td>\n",
       "      <td>0.000000</td>\n",
       "      <td>0.065249</td>\n",
       "    </tr>\n",
       "    <tr>\n",
       "      <th>2</th>\n",
       "      <td>0.000000</td>\n",
       "      <td>0.000000</td>\n",
       "      <td>0.000000</td>\n",
       "      <td>0.000000</td>\n",
       "      <td>0.128284</td>\n",
       "      <td>0.064142</td>\n",
       "      <td>0.128284</td>\n",
       "      <td>0.064142</td>\n",
       "      <td>0.064142</td>\n",
       "      <td>0.064142</td>\n",
       "      <td>...</td>\n",
       "      <td>0.128284</td>\n",
       "      <td>0.064142</td>\n",
       "      <td>0.000000</td>\n",
       "      <td>0.000000</td>\n",
       "      <td>0.000000</td>\n",
       "      <td>0.064142</td>\n",
       "      <td>0.000000</td>\n",
       "      <td>0.000000</td>\n",
       "      <td>0.064142</td>\n",
       "      <td>0.000000</td>\n",
       "    </tr>\n",
       "    <tr>\n",
       "      <th>3</th>\n",
       "      <td>0.064316</td>\n",
       "      <td>0.000000</td>\n",
       "      <td>0.000000</td>\n",
       "      <td>0.000000</td>\n",
       "      <td>0.000000</td>\n",
       "      <td>0.000000</td>\n",
       "      <td>0.000000</td>\n",
       "      <td>0.000000</td>\n",
       "      <td>0.000000</td>\n",
       "      <td>0.000000</td>\n",
       "      <td>...</td>\n",
       "      <td>0.000000</td>\n",
       "      <td>0.000000</td>\n",
       "      <td>0.000000</td>\n",
       "      <td>0.000000</td>\n",
       "      <td>0.000000</td>\n",
       "      <td>0.000000</td>\n",
       "      <td>0.064316</td>\n",
       "      <td>0.064316</td>\n",
       "      <td>0.000000</td>\n",
       "      <td>0.000000</td>\n",
       "    </tr>\n",
       "    <tr>\n",
       "      <th>4</th>\n",
       "      <td>0.000000</td>\n",
       "      <td>0.000000</td>\n",
       "      <td>0.000000</td>\n",
       "      <td>0.000000</td>\n",
       "      <td>0.000000</td>\n",
       "      <td>0.000000</td>\n",
       "      <td>0.000000</td>\n",
       "      <td>0.000000</td>\n",
       "      <td>0.000000</td>\n",
       "      <td>0.000000</td>\n",
       "      <td>...</td>\n",
       "      <td>0.000000</td>\n",
       "      <td>0.000000</td>\n",
       "      <td>0.068622</td>\n",
       "      <td>0.000000</td>\n",
       "      <td>0.068622</td>\n",
       "      <td>0.000000</td>\n",
       "      <td>0.000000</td>\n",
       "      <td>0.000000</td>\n",
       "      <td>0.000000</td>\n",
       "      <td>0.000000</td>\n",
       "    </tr>\n",
       "    <tr>\n",
       "      <th>5</th>\n",
       "      <td>0.000000</td>\n",
       "      <td>0.000000</td>\n",
       "      <td>0.000000</td>\n",
       "      <td>0.000000</td>\n",
       "      <td>0.000000</td>\n",
       "      <td>0.000000</td>\n",
       "      <td>0.000000</td>\n",
       "      <td>0.000000</td>\n",
       "      <td>0.000000</td>\n",
       "      <td>0.000000</td>\n",
       "      <td>...</td>\n",
       "      <td>0.000000</td>\n",
       "      <td>0.000000</td>\n",
       "      <td>0.000000</td>\n",
       "      <td>0.000000</td>\n",
       "      <td>0.000000</td>\n",
       "      <td>0.000000</td>\n",
       "      <td>0.000000</td>\n",
       "      <td>0.000000</td>\n",
       "      <td>0.000000</td>\n",
       "      <td>0.000000</td>\n",
       "    </tr>\n",
       "  </tbody>\n",
       "</table>\n",
       "<p>6 rows × 472 columns</p>\n",
       "</div>"
      ],
      "text/plain": [
       "        000       040       141        15      1812      1814      1815  \\\n",
       "0  0.000000  0.000000  0.086207  0.000000  0.000000  0.000000  0.000000   \n",
       "1  0.000000  0.065249  0.000000  0.065249  0.000000  0.000000  0.000000   \n",
       "2  0.000000  0.000000  0.000000  0.000000  0.128284  0.064142  0.128284   \n",
       "3  0.064316  0.000000  0.000000  0.000000  0.000000  0.000000  0.000000   \n",
       "4  0.000000  0.000000  0.000000  0.000000  0.000000  0.000000  0.000000   \n",
       "5  0.000000  0.000000  0.000000  0.000000  0.000000  0.000000  0.000000   \n",
       "\n",
       "       1816      1817      1827  ...   william    wooden      wora     world  \\\n",
       "0  0.000000  0.000000  0.000000  ...  0.000000  0.000000  0.000000  0.086207   \n",
       "1  0.000000  0.000000  0.000000  ...  0.000000  0.000000  0.000000  0.000000   \n",
       "2  0.064142  0.064142  0.064142  ...  0.128284  0.064142  0.000000  0.000000   \n",
       "3  0.000000  0.000000  0.000000  ...  0.000000  0.000000  0.000000  0.000000   \n",
       "4  0.000000  0.000000  0.000000  ...  0.000000  0.000000  0.068622  0.000000   \n",
       "5  0.000000  0.000000  0.000000  ...  0.000000  0.000000  0.000000  0.000000   \n",
       "\n",
       "      write     yards     years     yemen      york      zone  \n",
       "0  0.000000  0.000000  0.000000  0.000000  0.000000  0.000000  \n",
       "1  0.000000  0.000000  0.000000  0.000000  0.000000  0.065249  \n",
       "2  0.000000  0.064142  0.000000  0.000000  0.064142  0.000000  \n",
       "3  0.000000  0.000000  0.064316  0.064316  0.000000  0.000000  \n",
       "4  0.068622  0.000000  0.000000  0.000000  0.000000  0.000000  \n",
       "5  0.000000  0.000000  0.000000  0.000000  0.000000  0.000000  \n",
       "\n",
       "[6 rows x 472 columns]"
      ]
     },
     "execution_count": 17,
     "metadata": {},
     "output_type": "execute_result"
    }
   ],
   "source": [
    "df = pd.DataFrame(tfs.todense(),columns =tfidf.get_feature_names())\n",
    "df"
   ]
  },
  {
   "cell_type": "markdown",
   "metadata": {},
   "source": [
    "## Calculate cosine similarity between vectors of each document and query document"
   ]
  },
  {
   "cell_type": "markdown",
   "metadata": {},
   "source": [
    "Calculating the cosine similarity of each document with respect to the query document which is at column index 5  in the dataframe df."
   ]
  },
  {
   "cell_type": "markdown",
   "metadata": {},
   "source": [
    "We can see that the score on column 5 is 1 as it should be because the document matches completely."
   ]
  },
  {
   "cell_type": "markdown",
   "metadata": {},
   "source": [
    "Leaving the query document out, we get the highest value for cosine similarity as 0.381183 for document d_4.txt present on column 3 as seen below."
   ]
  },
  {
   "cell_type": "markdown",
   "metadata": {},
   "source": [
    "We get the highest score as the most similar because that means it has the smallest cosine angle between the two vectors"
   ]
  },
  {
   "cell_type": "markdown",
   "metadata": {},
   "source": [
    "<update dataset>"
   ]
  },
  {
   "cell_type": "code",
   "execution_count": 10,
   "metadata": {},
   "outputs": [
    {
     "data": {
      "text/html": [
       "<div>\n",
       "<style scoped>\n",
       "    .dataframe tbody tr th:only-of-type {\n",
       "        vertical-align: middle;\n",
       "    }\n",
       "\n",
       "    .dataframe tbody tr th {\n",
       "        vertical-align: top;\n",
       "    }\n",
       "\n",
       "    .dataframe thead th {\n",
       "        text-align: right;\n",
       "    }\n",
       "</style>\n",
       "<table border=\"1\" class=\"dataframe\">\n",
       "  <thead>\n",
       "    <tr style=\"text-align: right;\">\n",
       "      <th></th>\n",
       "      <th>0</th>\n",
       "      <th>1</th>\n",
       "      <th>2</th>\n",
       "      <th>3</th>\n",
       "      <th>4</th>\n",
       "      <th>5</th>\n",
       "    </tr>\n",
       "  </thead>\n",
       "  <tbody>\n",
       "    <tr>\n",
       "      <th>0</th>\n",
       "      <td>0.09939</td>\n",
       "      <td>0.065823</td>\n",
       "      <td>0.073951</td>\n",
       "      <td>0.381183</td>\n",
       "      <td>0.118673</td>\n",
       "      <td>1.0</td>\n",
       "    </tr>\n",
       "  </tbody>\n",
       "</table>\n",
       "</div>"
      ],
      "text/plain": [
       "         0         1         2         3         4    5\n",
       "0  0.09939  0.065823  0.073951  0.381183  0.118673  1.0"
      ]
     },
     "execution_count": 10,
     "metadata": {},
     "output_type": "execute_result"
    }
   ],
   "source": [
    "cos_sim_df = pd.DataFrame(cosine_similarity(tfs[5],tfs))\n",
    "cos_sim_df"
   ]
  },
  {
   "cell_type": "markdown",
   "metadata": {},
   "source": [
    "## Report the document with maximum similarity value"
   ]
  },
  {
   "cell_type": "markdown",
   "metadata": {},
   "source": [
    "Below we can see the document to which the query document was most similar."
   ]
  },
  {
   "cell_type": "code",
   "execution_count": 11,
   "metadata": {},
   "outputs": [
    {
     "data": {
      "text/plain": [
       "'java coffee refers to coffee beans produced in the indonesian island of java.  the indonesian phrase kopi java refers not only to the origin of the coffee, but is used to distinguish a style of strong, black, and very sweet coffee.  in some countries, java can refer to coffee in general.++the coffee is primarily grown on large estates that were built by the dutch in the 18th century. the five largest estates are blawan (also spelled belawan or blauan), jampit (or djampit), pancoer (or pancur), kayumas and tugosari, and they cover more than 4,000 hectares.++these estates transport ripe cherries quickly to their mills after harvest. the pulp is then fermented and washed off, using the wet process, with rigorous quality control. this results in coffee with good, heavy body and a sweet overall impression. they are sometimes rustic in their flavor profiles, but display a lasting finish. at their best, they are smooth and supple and sometimes have a subtle herbaceous note in the after-taste.++this coffee is prized as one component in the traditional \"mocca java\" blend, which pairs coffee from yemen and java. certain estates age a portion of their coffee for up to five years, normally in large burlap sacks, which are regularly aired, dusted, and flipped. as they age, the beans turn from green to light brown, and their flavor gains strength while losing acidity. aged coffees can display flavors ranging from cedar to spices such as cinnamon or clove, and often develop a thick, almost syrupy body. these aged coffees are called old government, old brown or old java.+'"
      ]
     },
     "execution_count": 11,
     "metadata": {},
     "output_type": "execute_result"
    }
   ],
   "source": [
    "val = cos_sim_df.iloc[:,:-1].idxmax(axis=1).tolist()\n",
    "all_docs[val[0]]"
   ]
  },
  {
   "cell_type": "code",
   "execution_count": null,
   "metadata": {},
   "outputs": [],
   "source": []
  }
 ],
 "metadata": {
  "kernelspec": {
   "display_name": "Python 3",
   "language": "python",
   "name": "python3"
  },
  "language_info": {
   "codemirror_mode": {
    "name": "ipython",
    "version": 3
   },
   "file_extension": ".py",
   "mimetype": "text/x-python",
   "name": "python",
   "nbconvert_exporter": "python",
   "pygments_lexer": "ipython3",
   "version": "3.7.3"
  }
 },
 "nbformat": 4,
 "nbformat_minor": 2
}
