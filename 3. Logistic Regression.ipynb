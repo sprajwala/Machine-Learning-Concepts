{
 "cells": [
  {
   "cell_type": "markdown",
   "metadata": {},
   "source": [
    "# Logistic Regression using GD and SGD"
   ]
  },
  {
   "cell_type": "markdown",
   "metadata": {},
   "source": [
    "## Logistic Regression with Gradient Descent"
   ]
  },
  {
   "cell_type": "markdown",
   "metadata": {},
   "source": [
    "Generate two clusters of data points with 100 points each (so that the total data size is n = 200), by sampling from Gaussian distributions centered at (0:5, 0:5) and (0:5, 0:5)"
   ]
  },
  {
   "cell_type": "markdown",
   "metadata": {},
   "source": [
    "Taking data dimension d = 2"
   ]
  },
  {
   "cell_type": "markdown",
   "metadata": {},
   "source": [
    "### Generating Gaussian Data"
   ]
  },
  {
   "cell_type": "code",
   "execution_count": 59,
   "metadata": {},
   "outputs": [],
   "source": [
    "import numpy as np\n",
    "import matplotlib.pyplot as plt\n",
    "%matplotlib inline"
   ]
  },
  {
   "cell_type": "code",
   "execution_count": 60,
   "metadata": {},
   "outputs": [],
   "source": [
    "#center for the first (blue) cluster - (0.5,0.5)\n",
    "m1 = [0.5,0.5]\n",
    "#center for the second cluster (red) - (-0.5,-0.5)\n",
    "m2 = [-0.5,-0.5]\n",
    "# d=2 hence a 2x2 covariance matrix to generate the data\n",
    "cov = [[0.05,0],[0,0.05]]"
   ]
  },
  {
   "cell_type": "code",
   "execution_count": 61,
   "metadata": {},
   "outputs": [],
   "source": [
    "#Generating  100 random points whose mean lies at (0.5,0.5) \n",
    "cluster1 = np.random.multivariate_normal(m1, cov, 100) \n",
    "#adding a label '1' to the blue cluster\n",
    "c1 = np.insert(cluster1, 2, 1.0, axis=1)\n",
    "\n",
    "#Generating 100 random points whose mean lies at (-0.5,-0.5)\n",
    "cluster2 = np.random.multivariate_normal(m2, cov, 100) \n",
    "#adding a label '0' to the blue cluster\n",
    "c2 = np.insert(cluster2, 2, 0.0, axis=1)\n",
    "\n",
    "#Taken labels as (0,1) instead of (-1,1) to be able to plot better."
   ]
  },
  {
   "cell_type": "code",
   "execution_count": 62,
   "metadata": {},
   "outputs": [
    {
     "data": {
      "text/plain": [
       "Text(0, 0.5, 'y co-ordinate')"
      ]
     },
     "execution_count": 62,
     "metadata": {},
     "output_type": "execute_result"
    },
    {
     "data": {
      "image/png": "[encoded data removed]",
      "text/plain": [
       "<Figure size 432x288 with 1 Axes>"
      ]
     },
     "metadata": {
      "needs_background": "light"
     },
     "output_type": "display_data"
    }
   ],
   "source": [
    "#plot to  verify that the clusters are correct and well separated\n",
    "plt.scatter(cluster1[:,0],cluster1[:,1])\n",
    "plt.scatter(cluster2[:,0],cluster2[:,1],color='r')\n",
    "plt.xlabel('x co-ordinate')\n",
    "plt.ylabel('y co-ordinate')"
   ]
  },
  {
   "cell_type": "markdown",
   "metadata": {},
   "source": [
    "From the above plot we can see that the data points are well separated"
   ]
  },
  {
   "cell_type": "code",
   "execution_count": 63,
   "metadata": {},
   "outputs": [
    {
     "data": {
      "text/plain": [
       "200"
      ]
     },
     "execution_count": 63,
     "metadata": {},
     "output_type": "execute_result"
    }
   ],
   "source": [
    "#combine the two clusters into a single dataset\n",
    "dataset = np.concatenate((c1,c2))\n",
    "#verifying size of final dataset\n",
    "len(dataset)"
   ]
  },
  {
   "cell_type": "markdown",
   "metadata": {},
   "source": [
    "### Initialization "
   ]
  },
  {
   "cell_type": "markdown",
   "metadata": {},
   "source": [
    "Training a logistic regression model that tries to minimize L(w) using Gradient Descent"
   ]
  },
  {
   "cell_type": "code",
   "execution_count": 64,
   "metadata": {},
   "outputs": [
    {
     "name": "stdout",
     "output_type": "stream",
     "text": [
      "len of train:158\n",
      "len of test:42\n"
     ]
    }
   ],
   "source": [
    "#Create a random 80-20 split of data into training and testing data\n",
    "msk = np.random.rand(len(dataset)) < 0.8\n",
    "train = dataset[msk]\n",
    "test = dataset[~msk]\n",
    "#verifying the split \n",
    "print(\"len of train:{}\".format(len(train)))\n",
    "print(\"len of test:{}\".format(len(test)))"
   ]
  },
  {
   "cell_type": "code",
   "execution_count": 65,
   "metadata": {},
   "outputs": [
    {
     "data": {
      "text/plain": [
       "(158, 3)"
      ]
     },
     "execution_count": 65,
     "metadata": {},
     "output_type": "execute_result"
    }
   ],
   "source": [
    "#X = all the cols except the last one\n",
    "#y = label to be predicted\n",
    "X = train[:,:-1]\n",
    "y = train[:,-1]\n",
    "\n",
    "#Get all dimensions aligned\n",
    "X = np.c_[np.ones((X.shape[0], 1)), X]\n",
    "y = y[:,np.newaxis]   \n",
    "\n",
    "\n",
    "#initialize w with \n",
    "w = np.zeros((X.shape[1],1))\n",
    "X.shape"
   ]
  },
  {
   "cell_type": "markdown",
   "metadata": {},
   "source": [
    "### Define functions"
   ]
  },
  {
   "cell_type": "markdown",
   "metadata": {},
   "source": [
    "$$ h(z) = \\frac{1}{1+e^{-z}} $$\n",
    "where, z = <w_i,x_i>"
   ]
  },
  {
   "cell_type": "code",
   "execution_count": 66,
   "metadata": {},
   "outputs": [],
   "source": [
    "#To calculate h(z)\n",
    "def sigmoid(z):\n",
    "    return 1 / (1 + np.exp(-z))"
   ]
  },
  {
   "cell_type": "code",
   "execution_count": 67,
   "metadata": {},
   "outputs": [],
   "source": [
    "#Compute dot product\n",
    "def compute_z(w, x):\n",
    "    return np.dot(x,w)"
   ]
  },
  {
   "cell_type": "code",
   "execution_count": 68,
   "metadata": {},
   "outputs": [],
   "source": [
    "#calculate the probablity , ie, h(z)\n",
    "def hz(w, x):\n",
    "    return sigmoid(compute_z(w, x))"
   ]
  },
  {
   "cell_type": "markdown",
   "metadata": {},
   "source": [
    "$$ L(w) = \\frac{1}{n} . (-y log(hz) - (1-y) log(1-hz)  $$"
   ]
  },
  {
   "cell_type": "markdown",
   "metadata": {},
   "source": [
    "where $$ hz = h(z) $$\n",
    "and $$ z = wX $$"
   ]
  },
  {
   "cell_type": "code",
   "execution_count": 69,
   "metadata": {},
   "outputs": [],
   "source": [
    "#Cost function L(w) for Logistic Regression\n",
    "def cost_function(w, x, y):\n",
    "    n = x.shape[0]\n",
    "    total_cost = -(1 / n) * np.sum(y * np.log(hz(w, x)) + (1 - y) * np.log(1 - hz(w, x)))\n",
    "    return total_cost"
   ]
  },
  {
   "cell_type": "markdown",
   "metadata": {},
   "source": [
    "$$ \\frac{\\partial L(w)}{\\partial w_j} = \\frac{1}{n} X^T (h(Xw) - y) $$"
   ]
  },
  {
   "cell_type": "code",
   "execution_count": 70,
   "metadata": {},
   "outputs": [],
   "source": [
    "#Compute gradient\n",
    "def gradient(w, x, y):\n",
    "    n = x.shape[0]\n",
    "    return (1 / n) * np.dot(x.T, sigmoid(compute_z(w,   x)) - y)"
   ]
  },
  {
   "cell_type": "code",
   "execution_count": 71,
   "metadata": {},
   "outputs": [],
   "source": [
    "#Update the weights or w's according to the slope at current point\n",
    "def gradient_descent(X, y, w, T, alpha):\n",
    "    cost = np.zeros(T)\n",
    "    for i in range(T):\n",
    "        #calculate the gradient at current point\n",
    "        grad = gradient(w,X,y)\n",
    "        #update values of set of weights depending on learning rate alpha\n",
    "        w = w - alpha*grad\n",
    "        #store the cost in an array to plot later\n",
    "        cost[i] = cost_function(w,X,y)\n",
    "    return w,cost"
   ]
  },
  {
   "cell_type": "markdown",
   "metadata": {},
   "source": [
    "### Running Gradient Descent"
   ]
  },
  {
   "cell_type": "markdown",
   "metadata": {},
   "source": [
    "Set hyperparameters"
   ]
  },
  {
   "cell_type": "code",
   "execution_count": 112,
   "metadata": {},
   "outputs": [],
   "source": [
    "#learning rate\n",
    "alpha = 0.1\n",
    "#Number of epochs/iterations\n",
    "T = 1000\n",
    "\n",
    "w_star_gd,cost = gradient_descent(X,y,w,T,alpha)\n",
    "\n",
    "final_cost = cost_function(w_star_gd,X,y)"
   ]
  },
  {
   "cell_type": "code",
   "execution_count": 113,
   "metadata": {},
   "outputs": [
    {
     "data": {
      "text/plain": [
       "0.0343135561029094"
      ]
     },
     "execution_count": 113,
     "metadata": {},
     "output_type": "execute_result"
    }
   ],
   "source": [
    "final_cost"
   ]
  },
  {
   "cell_type": "code",
   "execution_count": 114,
   "metadata": {},
   "outputs": [
    {
     "data": {
      "text/plain": [
       "array([[-0.05035815],\n",
       "       [ 3.91721773],\n",
       "       [ 3.8511832 ]])"
      ]
     },
     "execution_count": 114,
     "metadata": {},
     "output_type": "execute_result"
    }
   ],
   "source": [
    "#final values of w\n",
    "w_star_gd"
   ]
  },
  {
   "cell_type": "code",
   "execution_count": 115,
   "metadata": {
    "scrolled": true
   },
   "outputs": [
    {
     "data": {
      "text/plain": [
       "Text(0.5, 1.0, 'Error vs. Training Epoch for Gradient Descent')"
      ]
     },
     "execution_count": 115,
     "metadata": {},
     "output_type": "execute_result"
    },
    {
     "data": {
      "image/png": "[encoded data removed]",
      "text/plain": [
       "<Figure size 432x288 with 1 Axes>"
      ]
     },
     "metadata": {
      "needs_background": "light"
     },
     "output_type": "display_data"
    }
   ],
   "source": [
    "#plot the decay of the loss function against number of iterations \n",
    "fig, ax = plt.subplots()  \n",
    "ax.plot(np.arange(T), cost, 'r')  \n",
    "ax.set_xlabel('Iterations')  \n",
    "ax.set_ylabel('Cost')  \n",
    "ax.set_title('Error vs. Training Epoch for Gradient Descent') "
   ]
  },
  {
   "cell_type": "markdown",
   "metadata": {},
   "source": [
    "### Decision Boundary"
   ]
  },
  {
   "cell_type": "code",
   "execution_count": 1,
   "metadata": {},
   "outputs": [
    {
     "ename": "NameError",
     "evalue": "name 'plt' is not defined",
     "output_type": "error",
     "traceback": [
      "\u001b[1;31m---------------------------------------------------------------------------\u001b[0m",
      "\u001b[1;31mNameError\u001b[0m                                 Traceback (most recent call last)",
      "\u001b[1;32m<ipython-input-1-393ecaa22f3a>\u001b[0m in \u001b[0;36m<module>\u001b[1;34m\u001b[0m\n\u001b[0;32m      1\u001b[0m \u001b[1;31m#plotting decision boundary\u001b[0m\u001b[1;33m\u001b[0m\u001b[1;33m\u001b[0m\u001b[1;33m\u001b[0m\u001b[0m\n\u001b[1;32m----> 2\u001b[1;33m \u001b[0mplt\u001b[0m\u001b[1;33m.\u001b[0m\u001b[0mscatter\u001b[0m\u001b[1;33m(\u001b[0m\u001b[0mcluster1\u001b[0m\u001b[1;33m[\u001b[0m\u001b[1;33m:\u001b[0m\u001b[1;33m,\u001b[0m\u001b[1;36m0\u001b[0m\u001b[1;33m]\u001b[0m\u001b[1;33m,\u001b[0m\u001b[0mcluster1\u001b[0m\u001b[1;33m[\u001b[0m\u001b[1;33m:\u001b[0m\u001b[1;33m,\u001b[0m\u001b[1;36m1\u001b[0m\u001b[1;33m]\u001b[0m\u001b[1;33m)\u001b[0m\u001b[1;33m\u001b[0m\u001b[1;33m\u001b[0m\u001b[0m\n\u001b[0m\u001b[0;32m      3\u001b[0m \u001b[0mplt\u001b[0m\u001b[1;33m.\u001b[0m\u001b[0mscatter\u001b[0m\u001b[1;33m(\u001b[0m\u001b[0mcluster2\u001b[0m\u001b[1;33m[\u001b[0m\u001b[1;33m:\u001b[0m\u001b[1;33m,\u001b[0m\u001b[1;36m0\u001b[0m\u001b[1;33m]\u001b[0m\u001b[1;33m,\u001b[0m\u001b[0mcluster2\u001b[0m\u001b[1;33m[\u001b[0m\u001b[1;33m:\u001b[0m\u001b[1;33m,\u001b[0m\u001b[1;36m1\u001b[0m\u001b[1;33m]\u001b[0m\u001b[1;33m,\u001b[0m\u001b[0mcolor\u001b[0m\u001b[1;33m=\u001b[0m\u001b[1;34m'r'\u001b[0m\u001b[1;33m)\u001b[0m\u001b[1;33m\u001b[0m\u001b[1;33m\u001b[0m\u001b[0m\n\u001b[0;32m      4\u001b[0m \u001b[1;33m\u001b[0m\u001b[0m\n\u001b[0;32m      5\u001b[0m \u001b[0mx_vals_gd\u001b[0m \u001b[1;33m=\u001b[0m \u001b[0mnp\u001b[0m\u001b[1;33m.\u001b[0m\u001b[0marange\u001b[0m\u001b[1;33m(\u001b[0m\u001b[1;33m-\u001b[0m\u001b[1;36m1\u001b[0m\u001b[1;33m,\u001b[0m \u001b[1;36m1\u001b[0m\u001b[1;33m,\u001b[0m \u001b[1;36m0.2\u001b[0m\u001b[1;33m)\u001b[0m\u001b[1;33m\u001b[0m\u001b[1;33m\u001b[0m\u001b[0m\n",
      "\u001b[1;31mNameError\u001b[0m: name 'plt' is not defined"
     ]
    }
   ],
   "source": [
    "#plotting decision boundary\n",
    "plt.scatter(cluster1[:,0],cluster1[:,1])\n",
    "plt.scatter(cluster2[:,0],cluster2[:,1],color='r')\n",
    "\n",
    "x_vals_gd = np.arange(-1, 1, 0.2)\n",
    "\n",
    "y_vals_gd = -(w_star_gd[0] + w_star_gd[1] * x_vals_gd)/w_star_gd[2]\n",
    "plt.plot(x_vals_gd,y_vals_gd,label='Decision Boundary GD',c='b')\n",
    "plt.title('Logistic Regession using Gradient Descent',c='k')\n",
    "plt.xlabel('x-coordinates')\n",
    "plt.ylabel('y-coordinates')\n",
    "plt.legend()\n",
    "plt.show()"
   ]
  },
  {
   "cell_type": "markdown",
   "metadata": {},
   "source": [
    "## Logistic Regression with Mini-batch Stochastic Gradient Descent"
   ]
  },
  {
   "cell_type": "markdown",
   "metadata": {},
   "source": [
    "Training the same logistic regression algorithm with SGD to show that SGD has a slower rate of convergence but converges faster per iteration."
   ]
  },
  {
   "cell_type": "markdown",
   "metadata": {},
   "source": [
    "Randomize the dataset for SGD to converge a little faster"
   ]
  },
  {
   "cell_type": "code",
   "execution_count": 96,
   "metadata": {},
   "outputs": [],
   "source": [
    "#Get a batch to run SGD on\n",
    "def next_batch(X, y, batch_size):\n",
    "    # loop over the dataset `X` in mini-batches of size `batchSize`\n",
    "    #np.arange(start,stop,step) , stop not included\n",
    "    for i in np.arange(0, X.shape[0], batch_size):\n",
    "        # yield a tuple of the current batched data and labels\n",
    "        yield (X[i:i + batch_size], y[i:i + batch_size])"
   ]
  },
  {
   "cell_type": "code",
   "execution_count": 97,
   "metadata": {},
   "outputs": [],
   "source": [
    "#Update the weights or w's according to the slope at current point\n",
    "def SGD(X, y, w, T, alpha, batch_size):\n",
    "    cost = []\n",
    "    for i in range(T):\n",
    "        #calculate the gradient at current point\n",
    "        for (batch_X,batch_Y) in next_batch(X, y, batch_size):\n",
    "            loss = []\n",
    "            grad = gradient(w,batch_X,batch_Y)\n",
    "            #update values of set of weights depending on learning rate alpha\n",
    "            w = w - alpha*grad\n",
    "            l = cost_function(w,X,y)\n",
    "            #store the cost in an array to plot later\n",
    "            loss.append(l)\n",
    "        #append average cost of each batch to final cost\n",
    "        cost.append(np.average(loss))\n",
    "    return w,cost"
   ]
  },
  {
   "cell_type": "markdown",
   "metadata": {},
   "source": [
    "### Running SGD"
   ]
  },
  {
   "cell_type": "code",
   "execution_count": 116,
   "metadata": {},
   "outputs": [],
   "source": [
    "alpha_sgd = 0.1          #learning rate\n",
    "T_sgd = 1000               #Number of epochs/iterations\n",
    "batch_size = 32       #Batch size\n",
    "w = np.zeros((X.shape[1],1))\n",
    "\n",
    "w_star_sgd,cost_sgd = SGD(X,y,w,T_sgd,alpha_sgd,batch_size)\n",
    "\n",
    "#final_cost_sgd = cost_function(w_star_sgd,X,y)"
   ]
  },
  {
   "cell_type": "code",
   "execution_count": 117,
   "metadata": {},
   "outputs": [
    {
     "data": {
      "text/plain": [
       "Text(0.5, 1.0, 'Error vs. Training Epoch for Stochastic Gradient Descent')"
      ]
     },
     "execution_count": 117,
     "metadata": {},
     "output_type": "execute_result"
    },
    {
     "data": {
      "image/png": "[encoded data removed]",
      "text/plain": [
       "<Figure size 432x288 with 1 Axes>"
      ]
     },
     "metadata": {
      "needs_background": "light"
     },
     "output_type": "display_data"
    }
   ],
   "source": [
    "#plot the cost\n",
    "fig, ax = plt.subplots()  \n",
    "ax.plot(np.arange(T_sgd), cost_sgd, 'r')  \n",
    "ax.set_xlabel('Iterations')  \n",
    "ax.set_ylabel('Cost')  \n",
    "ax.set_title('Error vs. Training Epoch for Stochastic Gradient Descent') "
   ]
  },
  {
   "cell_type": "markdown",
   "metadata": {},
   "source": [
    "Comparing the above plot to that of Gradient Descent, we can see that SGD converges at around the 600th iteration but has a slower rate of convergence."
   ]
  },
  {
   "cell_type": "markdown",
   "metadata": {},
   "source": [
    "### Overlay of plot of data points and both the models"
   ]
  },
  {
   "cell_type": "code",
   "execution_count": 42,
   "metadata": {},
   "outputs": [
    {
     "data": {
      "image/png": "[encoded data removed]",
      "text/plain": [
       "<Figure size 432x288 with 1 Axes>"
      ]
     },
     "metadata": {
      "needs_background": "light"
     },
     "output_type": "display_data"
    },
    {
     "name": "stdout",
     "output_type": "stream",
     "text": [
      "[[0.02649062]\n",
      " [3.99902791]\n",
      " [3.85957114]]\n",
      "-----------------\n",
      "[[-0.10502637]\n",
      " [ 6.03444855]\n",
      " [ 5.99011572]]\n"
     ]
    }
   ],
   "source": [
    "#plotting decision boundary\n",
    "plt.scatter(cluster1[:,0],cluster1[:,1])\n",
    "plt.scatter(cluster2[:,0],cluster2[:,1],color='r')\n",
    "\n",
    "\n",
    "x_vals_gd = np.arange(-1, 1, 0.2)\n",
    "\n",
    "#For Gradient Descent\n",
    "y_vals_gd = -(w_star_gd[0] + w_star_gd[1] * x_vals_gd)/w_star_gd[2]\n",
    "plt.plot(x_vals_gd,y_vals_gd,label='Decision Boundary GD')\n",
    "plt.title('Logistic Regession using Gradient Descent',c='k')\n",
    "\n",
    "#For Stochastic Gradient Descent\n",
    "y_vals_sgd = -(w_star_sgd[0] + w_star_sgd[1] * x_vals_gd)/w_star_sgd[2]\n",
    "plt.plot(x_vals_gd, y_vals_sgd, label='Decision Boundary SGD')\n",
    "plt.title('Logistic Regession using Gradient Descent',c='k')\n",
    "plt.xlabel('x-coordinates')\n",
    "plt.ylabel('y-coordinates')\n",
    "plt.legend()\n",
    "plt.show()\n",
    "\n",
    "print(w_star_gd)\n",
    "print(\"-----------------\")\n",
    "print(w_star_sgd)"
   ]
  },
  {
   "cell_type": "markdown",
   "metadata": {},
   "source": [
    "From the above plot we can see that both the methods perform correct classification of the dataset and there is no difference in final quality of the model."
   ]
  },
  {
   "cell_type": "code",
   "execution_count": null,
   "metadata": {},
   "outputs": [],
   "source": []
  }
 ],
 "metadata": {
  "kernelspec": {
   "display_name": "Python 3",
   "language": "python",
   "name": "python3"
  },
  "language_info": {
   "codemirror_mode": {
    "name": "ipython",
    "version": 3
   },
   "file_extension": ".py",
   "mimetype": "text/x-python",
   "name": "python",
   "nbconvert_exporter": "python",
   "pygments_lexer": "ipython3",
   "version": "3.7.3"
  }
 },
 "nbformat": 4,
 "nbformat_minor": 2
}
